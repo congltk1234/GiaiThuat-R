{
 "cells": [
  {
   "cell_type": "code",
   "execution_count": 20,
   "metadata": {},
   "outputs": [
    {
     "name": "stdout",
     "output_type": "stream",
     "text": [
      "Dãy ban đầu: [12, 4, 5, 6, 7, 3, 3, 1, 15]\n",
      "[12]\n",
      "[4, 12]\n",
      "[4, 5, 12]\n",
      "[4, 5, 6, 12]\n",
      "[4, 5, 6, 7, 12]\n",
      "[4, 5, 6, 7, 3, 12]\n",
      "[4, 5, 6, 7, 3, 3, 12]\n",
      "[4, 5, 6, 7, 3, 3, 1, 12]\n",
      "[4, 5, 6, 7, 3, 3, 1, 12, 15]\n",
      "[4]\n",
      "[4, 5]\n",
      "[4, 5, 6]\n",
      "[4, 5, 6, 7]\n",
      "[3, 4, 5, 6, 7]\n",
      "[3, 3, 4, 5, 6, 7]\n",
      "[3, 3, 1, 4, 5, 6, 7]\n",
      "[3]\n",
      "[3, 3]\n",
      "[1, 3, 3]\n",
      "[5]\n",
      "[5, 6]\n",
      "[5, 6, 7]\n",
      "[6]\n",
      "[6, 7]\n",
      "Sau khi sắp xếp: [1, 3, 3, 4, 5, 6, 7, 12, 15]\n"
     ]
    }
   ],
   "source": [
    "  \n",
    "def sort(array):\n",
    "    less = []\n",
    "    equal = []\n",
    "    greater = []\n",
    "    if len(array) > 1:\n",
    "        a = array[0]\n",
    "        for x in array:\n",
    "            if x < a:\n",
    "                less.append(x)\n",
    "            elif x == a:\n",
    "                equal.append(x)\n",
    "            elif x > a:\n",
    "                greater.append(x)\n",
    "            array = less+equal+greater\n",
    "            print(array)\n",
    "        return sort(less)+equal+sort(greater)\n",
    "    else:  # xử lý phần ở cuối đệ quy - khi chỉ có một phần tử trong mảng của mình, chỉ cần trả về mảng. \n",
    "        return array\n",
    "\n",
    "arr=[12,4,5,6,7,3,3,1,15]\n",
    "print('Dãy ban đầu:',arr)\n",
    "arr = sort(arr)\n",
    "print('Sau khi sắp xếp:',arr)"
   ]
  }
 ],
 "metadata": {
  "kernelspec": {
   "display_name": "Python 3",
   "language": "python",
   "name": "python3"
  },
  "language_info": {
   "codemirror_mode": {
    "name": "ipython",
    "version": 3
   },
   "file_extension": ".py",
   "mimetype": "text/x-python",
   "name": "python",
   "nbconvert_exporter": "python",
   "pygments_lexer": "ipython3",
   "version": "3.8.3"
  }
 },
 "nbformat": 4,
 "nbformat_minor": 4
}
