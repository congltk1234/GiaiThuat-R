{
 "cells": [
  {
   "cell_type": "code",
   "execution_count": 2,
   "metadata": {},
   "outputs": [
    {
     "name": "stdout",
     "output_type": "stream",
     "text": [
      "nhap a = 15\n",
      "nhap b = 27\n",
      "UCLN của 15 và 27 là: 3\n"
     ]
    }
   ],
   "source": [
    "a = int(input('nhap a = '))\n",
    "b = int(input('nhap b = '))\n",
    "\n",
    "def uscln(a, b):\n",
    "    if (b == 0):\n",
    "        return a;\n",
    "    return uscln(b, a % b);\n",
    "print('UCLN của',a,'và',b,'là:',uscln(a,b))"
   ]
  }
 ],
 "metadata": {
  "kernelspec": {
   "display_name": "Python 3",
   "language": "python",
   "name": "python3"
  },
  "language_info": {
   "codemirror_mode": {
    "name": "ipython",
    "version": 3
   },
   "file_extension": ".py",
   "mimetype": "text/x-python",
   "name": "python",
   "nbconvert_exporter": "python",
   "pygments_lexer": "ipython3",
   "version": "3.8.3"
  }
 },
 "nbformat": 4,
 "nbformat_minor": 4
}
