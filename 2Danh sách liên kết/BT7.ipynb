{
 "cells": [
  {
   "cell_type": "code",
   "execution_count": 2,
   "metadata": {},
   "outputs": [],
   "source": [
    "  \n",
    "class Node: \n",
    "    def __init__(self, next=None, prev=None, data=None): \n",
    "        self.next = next # tham chiếu đến node tiếp theo trong DLL\n",
    "        self.prev = prev # tham chiếu đến node trước đó trong DLL \n",
    "        self.data = data \n",
    "        \n",
    "    # Thêm một node ở đầu danh sách\n",
    "    def push(self, new_data): \n",
    "      \n",
    "        # 1 & 2: Phân bổ node và đưa vào dữ liệu\n",
    "        new_node = Node(data = new_data) \n",
    "      \n",
    "        # 3. Thực hiện tiếp theo của node mới làm đầu và trước đó là NULL \n",
    "        new_node.next = self.head \n",
    "        new_node.prev = None\n",
    "      \n",
    "        # 4. thay đổi trước của node đầu thành node mới \n",
    "        if self.head is not None: \n",
    "            self.head.prev = new_node \n",
    "      \n",
    "        # 5. di chuyển đầu để trỏ đến node mới\n",
    "        self.head = new_node \n",
    "        \n",
    "    # Đã cho một node là prev_node\n",
    "    #hãy chèn một node mới vào sau node đã cho \n",
    "      \n",
    "    def insertAfter(self, prev_node, new_data): \n",
    "      \n",
    "            # 1. kiểm tra xem giá trị trước đó có phải là NULL không \n",
    "            if prev_node is None: \n",
    "                print(\"This node doesn't exist in DLL\") \n",
    "                return\n",
    "      \n",
    "            #2. phân bổ node & 3. đưa vào dữ liệu \n",
    "            new_node = Node(data = new_data) \n",
    "      \n",
    "            # 4. Thực hiện tiếp theo của node mới như tiếp theo của prev_node \n",
    "            new_node.next = prev_node.next\n",
    "      \n",
    "            # 5. Đặt phần tiếp theo của prev_node làm new_node  \n",
    "            prev_node.next = new_node \n",
    "      \n",
    "            # 6. Đặt prev_node làm previous của new_node\n",
    "            new_node.prev = prev_node \n",
    "      \n",
    "            # 7. thay đổi previous của new_node's next node */ \n",
    "            if new_node.next is not None: \n",
    "                new_node.next.prev = new_node"
   ]
  }
 ],
 "metadata": {
  "kernelspec": {
   "display_name": "Python 3",
   "language": "python",
   "name": "python3"
  },
  "language_info": {
   "codemirror_mode": {
    "name": "ipython",
    "version": 3
   },
   "file_extension": ".py",
   "mimetype": "text/x-python",
   "name": "python",
   "nbconvert_exporter": "python",
   "pygments_lexer": "ipython3",
   "version": "3.8.3"
  }
 },
 "nbformat": 4,
 "nbformat_minor": 4
}
