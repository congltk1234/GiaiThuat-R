{
 "cells": [
  {
   "cell_type": "code",
   "execution_count": 1,
   "metadata": {},
   "outputs": [
    {
     "name": "stdout",
     "output_type": "stream",
     "text": [
      "4\n",
      "2\n",
      "5\n"
     ]
    }
   ],
   "source": [
    "# Node class \n",
    "class Node: \n",
    "  \n",
    "    # Hàm khởi tạo dối tượng  node\n",
    "    def __init__(self, data): \n",
    "        self.data = data  # Gán dữ liệu\n",
    "        self.next = None  # Khởi tạo tiếp theo là null\n",
    "  \n",
    "  \n",
    "# Lớp Danh sách được liên kết chứa một đối tượng Node\n",
    "class LinkedList: \n",
    "  \n",
    "    # Hàm khởi tạo head \n",
    "    def __init__(self): \n",
    "        self.head = None\n",
    "  \n",
    "    # Hàm này in nội dung của danh sách liên kết \n",
    "    # Bắt đầu từ head \n",
    "    def printList(self): \n",
    "        temp = self.head \n",
    "        while (temp): \n",
    "            print (temp.data) \n",
    "            temp = temp.next\n",
    "  \n",
    "  \n",
    "# CQuá trình thực thi mã bắt đầu ở đây\n",
    "if __name__=='__main__': \n",
    "  \n",
    "    # Bắt đầu với ds rỗng \n",
    "    llist = LinkedList() \n",
    "  \n",
    "    llist.head = Node(4) \n",
    "    second = Node(2) \n",
    "    third = Node(5) \n",
    "  \n",
    "    llist.head.next = second; # Liên kết node thứ nhất vs node thứ 2 \n",
    "    second.next = third; # Liên kết node thứ 2 với thứ 3 \n",
    "  \n",
    "    llist.printList()"
   ]
  }
 ],
 "metadata": {
  "kernelspec": {
   "display_name": "Python 3",
   "language": "python",
   "name": "python3"
  },
  "language_info": {
   "codemirror_mode": {
    "name": "ipython",
    "version": 3
   },
   "file_extension": ".py",
   "mimetype": "text/x-python",
   "name": "python",
   "nbconvert_exporter": "python",
   "pygments_lexer": "ipython3",
   "version": "3.8.3"
  }
 },
 "nbformat": 4,
 "nbformat_minor": 4
}
