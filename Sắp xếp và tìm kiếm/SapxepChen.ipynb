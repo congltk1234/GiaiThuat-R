{
 "cells": [
  {
   "cell_type": "code",
   "execution_count": 5,
   "metadata": {},
   "outputs": [
    {
     "name": "stdout",
     "output_type": "stream",
     "text": [
      "Dãy ban đầu: [12, 11, 22, 13, 5, 6]\n",
      "Bước thứ 2 : [11, 12, 22, 13, 5, 6]\n",
      "Bước thứ 3 : [11, 12, 22, 13, 5, 6]\n",
      "Bước thứ 4 : [11, 12, 13, 22, 5, 6]\n",
      "Bước thứ 5 : [5, 11, 12, 13, 22, 6]\n",
      "Bước thứ 6 : [5, 6, 11, 12, 13, 22]\n",
      "Dãy sau khi sắp xếp:\n",
      " 5\n",
      " 6\n",
      " 11\n",
      " 12\n",
      " 13\n",
      " 22\n"
     ]
    }
   ],
   "source": [
    "def insertionSort(arr):\n",
    " \n",
    "    # Traverse through 1 to len(arr)\n",
    "    for i in range(1, len(arr)):\n",
    " \n",
    "        key = arr[i]\n",
    " \n",
    "        # Move elements of arr[0..i-1], that are\n",
    "        # greater than key, to one position ahead\n",
    "        # of their current position\n",
    "        j = i-1\n",
    "        while j >= 0 and key < arr[j] :\n",
    "                arr[j + 1] = arr[j]\n",
    "                j -= 1\n",
    "        arr[j + 1] = key\n",
    "        print('Bước thứ',i+1,':',arr)\n",
    " \n",
    " \n",
    "# Driver code to test above\n",
    "arr = [12, 11, 22, 13, 5, 6]\n",
    "print('Dãy ban đầu:',arr)\n",
    "insertionSort(arr)\n",
    "print('Dãy sau khi sắp xếp:')\n",
    "for i in range(len(arr)):\n",
    "    print (\"% d\" % arr[i])"
   ]
  }
 ],
 "metadata": {
  "kernelspec": {
   "display_name": "Python 3",
   "language": "python",
   "name": "python3"
  },
  "language_info": {
   "codemirror_mode": {
    "name": "ipython",
    "version": 3
   },
   "file_extension": ".py",
   "mimetype": "text/x-python",
   "name": "python",
   "nbconvert_exporter": "python",
   "pygments_lexer": "ipython3",
   "version": "3.8.3"
  }
 },
 "nbformat": 4,
 "nbformat_minor": 4
}
