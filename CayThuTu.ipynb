{
 "cells": [
  {
   "cell_type": "code",
   "execution_count": 1,
   "metadata": {},
   "outputs": [],
   "source": [
    "import random"
   ]
  },
  {
   "cell_type": "code",
   "execution_count": 3,
   "metadata": {},
   "outputs": [],
   "source": [
    "#CÂY THỨ TỰ TRƯỚC\n",
    "import random\n",
    "\n",
    "\n",
    "# A demonstration of traversing a binary search tree in order.\n",
    "# See the traverse function for all the action.\n",
    "\n",
    "\n",
    "# Generic binary tree class\n",
    "\n",
    "class Tree:\n",
    "\n",
    "    def __init__(self, value):\n",
    "        self._left = None\n",
    "        self._right = None\n",
    "        self._value = value\n",
    "\n",
    "    def setLeftChild(self, child):\n",
    "        self._left = child\n",
    "\n",
    "    def setRightChild(self, child):\n",
    "        self._right = child\n",
    "\n",
    "    def getLeftChild(self):\n",
    "        return self._left\n",
    "\n",
    "    def getRightChild(self):\n",
    "        return self._right\n",
    "\n",
    "    def getValue(self):\n",
    "        return self._value"
   ]
  },
  {
   "cell_type": "code",
   "execution_count": 4,
   "metadata": {},
   "outputs": [],
   "source": [
    "# Traverse a binary search tree -- if we're expecting very deep\n",
    "# trees, an iterative rather than recursive method would be safer;\n",
    "# or consider Stackless Python, although it's not truly stackless\n",
    "# (http://www.stackless.com/pipermail/stackless/2012-October/005461.html)\n",
    "\n",
    "# \"yield\" allows us to use the function in a generator (see below)\n",
    "\n",
    "def traverse(bst):\n",
    "    left = bst.getLeftChild()\n",
    "    if left is not None:\n",
    "        for subtree in traverse(left):\n",
    "            yield subtree\n",
    "    yield bst.getValue()\n",
    "    right = bst.getRightChild()\n",
    "    if right is not None:\n",
    "        for subtree in traverse(right):\n",
    "            yield subtree\n",
    "\n",
    "\n",
    "# Helper method for adding a new value\n",
    "\n",
    "def add(bst, value):\n",
    "    # Lower values to the left\n",
    "    if value < bst.getValue():\n",
    "        left = bst.getLeftChild()\n",
    "        if left is None:\n",
    "            bst.setLeftChild(Tree(value))\n",
    "        else:\n",
    "            add(left, value)\n",
    "    # Higher values to the right\n",
    "    elif value > bst.getValue():\n",
    "        right = bst.getRightChild()\n",
    "        if right is None:\n",
    "            bst.setRightChild(Tree(value))\n",
    "        else:\n",
    "            add(right, value)\n",
    "    # If value == bst.getValue(), take no action (it's a duplicate)"
   ]
  },
  {
   "cell_type": "code",
   "execution_count": 9,
   "metadata": {},
   "outputs": [
    {
     "name": "stdout",
     "output_type": "stream",
     "text": [
      "Adding value  11\n",
      "Adding value  6\n",
      "Adding value  8\n",
      "Adding value  14\n",
      "Adding value  18\n",
      "Adding value  16\n",
      "Adding value  6\n",
      "Adding value  19\n",
      "Adding value  15\n",
      "Adding value  10\n",
      "Adding value  20\n",
      "Adding value  2\n",
      "Adding value  6\n",
      "Adding value  7\n",
      "Adding value  3\n",
      "Adding value  6\n",
      "Adding value  15\n",
      "Adding value  17\n",
      "Adding value  1\n",
      "Adding value  4\n",
      "In order:  [1, 2, 3, 4, 6, 7, 8, 10, 11, 14, 15, 16, 17, 18, 19, 20]\n"
     ]
    }
   ],
   "source": [
    "bst = Tree(20)\n",
    "for i in range(20):\n",
    "    value = random.randint(0, 20)\n",
    "    print (\"Adding value \", value)\n",
    "    add(bst, value)\n",
    "\n",
    "print( \"In order: \", list(x for x in traverse(bst)))"
   ]
  }
 ],
 "metadata": {
  "kernelspec": {
   "display_name": "Python 3",
   "language": "python",
   "name": "python3"
  },
  "language_info": {
   "codemirror_mode": {
    "name": "ipython",
    "version": 3
   },
   "file_extension": ".py",
   "mimetype": "text/x-python",
   "name": "python",
   "nbconvert_exporter": "python",
   "pygments_lexer": "ipython3",
   "version": "3.8.3"
  }
 },
 "nbformat": 4,
 "nbformat_minor": 4
}
