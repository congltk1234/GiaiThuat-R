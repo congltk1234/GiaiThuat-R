{
 "cells": [
  {
   "cell_type": "code",
   "execution_count": 19,
   "metadata": {},
   "outputs": [
    {
     "name": "stdout",
     "output_type": "stream",
     "text": [
      "3\n",
      "2\n",
      "1\n"
     ]
    }
   ],
   "source": [
    "class Node(object):\n",
    "    def __init__(self):\n",
    "        self.data = None # contains the data\n",
    "        self.next = None # contains the reference to the next node\n",
    "\n",
    "\n",
    "class LinkedList:\n",
    "    def __init__(self):\n",
    "        self.cur_node = None\n",
    "\n",
    "    def add_node(self, data):\n",
    "        new_node = Node() # create a new node\n",
    "        new_node.data = data\n",
    "        new_node.next = self.cur_node # link the new node to the 'previous' node.\n",
    "        self.cur_node = new_node #  set the current node to the new one.\n",
    "\n",
    "    def list_print(self):\n",
    "        node = self.cur_node # cant point to ll!\n",
    "        while node:\n",
    "            print (node.data)\n",
    "            node = node.next\n",
    "'''\n",
    "  \n",
    "    llist.head        second              third \n",
    "         |                |                  | \n",
    "         |                |                  | \n",
    "    +----+------+     +----+------+     +----+------+ \n",
    "    | 1  |  o-------->| 2  |  o-------->|  3 | null | \n",
    "    +----+------+     +----+------+     +----+------+  \n",
    "    '''\n",
    "\n",
    "ll = LinkedList()\n",
    "ll.add_node(1)\n",
    "ll.add_node(2)\n",
    "ll.add_node(3)\n",
    "\n",
    "ll.list_print()"
   ]
  },
  {
   "cell_type": "code",
   "execution_count": null,
   "metadata": {},
   "outputs": [],
   "source": [
    "\n",
    "# Function setClass() command used \n",
    "# to create S4 class containing list of slots.\n",
    "setClass(\"Node\", slots=list(name=\"character\", \n",
    "                               Roll_No=\"numeric\"))\n",
    "  \n",
    "# 'new' keyword used to create object of class 'Student'   \n",
    "a <- new(\"Student\", name=\"Adam\", Roll_No=20)  \n",
    "  \n",
    "# Calling object\n",
    "a"
   ]
  }
 ],
 "metadata": {
  "kernelspec": {
   "display_name": "Python 3",
   "language": "python",
   "name": "python3"
  },
  "language_info": {
   "codemirror_mode": {
    "name": "ipython",
    "version": 3
   },
   "file_extension": ".py",
   "mimetype": "text/x-python",
   "name": "python",
   "nbconvert_exporter": "python",
   "pygments_lexer": "ipython3",
   "version": "3.8.3"
  }
 },
 "nbformat": 4,
 "nbformat_minor": 4
}
