{
 "cells": [
  {
   "cell_type": "code",
   "execution_count": 1,
   "metadata": {},
   "outputs": [
    {
     "name": "stdout",
     "output_type": "stream",
     "text": [
      "Số tầng của tháp: 4\n",
      "Di chuyển vòng 1 từ nguồn A đến đích C\n",
      "Di chuyển vòng 2 từ nguồn A đến đích B\n",
      "Di chuyển vòng 1 từ nguồn A đến đích B\n",
      "Di chuyển vòng 3 từ nguồn A đến đích C\n",
      "Di chuyển vòng 1 từ nguồn A đến đích B\n",
      "Di chuyển vòng 2 từ nguồn A đến đích C\n",
      "Di chuyển vòng 1 từ nguồn A đến đích C\n",
      "Di chuyển vòng 4 từ nguồn A đến đích B\n",
      "Di chuyển vòng 1 từ nguồn A đến đích B\n",
      "Di chuyển vòng 2 từ nguồn A đến đích C\n",
      "Di chuyển vòng 1 từ nguồn A đến đích C\n",
      "Di chuyển vòng 3 từ nguồn A đến đích B\n",
      "Di chuyển vòng 1 từ nguồn A đến đích C\n",
      "Di chuyển vòng 2 từ nguồn A đến đích B\n",
      "Di chuyển vòng 1 từ nguồn A đến đích B\n"
     ]
    }
   ],
   "source": [
    "# Tháp Hà Nội\n",
    "def THN(n, A, B, C):\n",
    "    if n == 1:\n",
    "        print(\"Di chuyển vòng 1 từ nguồn\", A, \"đến đích\", B)\n",
    "        return \n",
    "    THN(n-1, A, C, B)\n",
    "    print(\"Di chuyển vòng\", n, \"từ nguồn\", A, \"đến đích\", B)\n",
    "    THN(n-1, A, B, C)\n",
    "\n",
    "n = int(input(\"Số tầng của tháp: \"))\n",
    "THN(n, \"A\", \"B\", \"C\")"
   ]
  }
 ],
 "metadata": {
  "kernelspec": {
   "display_name": "Python 3",
   "language": "python",
   "name": "python3"
  },
  "language_info": {
   "codemirror_mode": {
    "name": "ipython",
    "version": 3
   },
   "file_extension": ".py",
   "mimetype": "text/x-python",
   "name": "python",
   "nbconvert_exporter": "python",
   "pygments_lexer": "ipython3",
   "version": "3.8.3"
  }
 },
 "nbformat": 4,
 "nbformat_minor": 4
}
