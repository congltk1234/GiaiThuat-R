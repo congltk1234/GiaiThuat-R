{
 "cells": [
  {
   "cell_type": "code",
   "execution_count": 9,
   "metadata": {
    "scrolled": true
   },
   "outputs": [
    {
     "name": "stdout",
     "output_type": "stream",
     "text": [
      "Mảng ban đầu: [64, 34, 12, 25, 90, 22, 11]\n",
      "Bước thứ 1 : [34, 12, 25, 64, 22, 11, 90]\n",
      "Bước thứ 2 : [12, 25, 34, 22, 11, 64, 90]\n",
      "Bước thứ 3 : [12, 25, 22, 11, 34, 64, 90]\n",
      "Bước thứ 4 : [12, 22, 11, 25, 34, 64, 90]\n",
      "Bước thứ 5 : [12, 11, 22, 25, 34, 64, 90]\n",
      "Bước thứ 6 : [11, 12, 22, 25, 34, 64, 90]\n",
      "Bước thứ 7 : [11, 12, 22, 25, 34, 64, 90]\n",
      "Sorted array is:\n",
      "11\n",
      "12\n",
      "22\n",
      "25\n",
      "34\n",
      "64\n",
      "90\n"
     ]
    }
   ],
   "source": [
    "def bubbleSort(arr):\n",
    "    n = len(arr)\n",
    "    # Traverse through all array elements\n",
    "    for i in range(n):\n",
    "        # Last i elements are already in place\n",
    "        for j in range(0, n-i-1):\n",
    "            # traverse the array from 0 to n-i-1\n",
    "            # Swap if the element found is greater\n",
    "            # than the next element\n",
    "            if arr[j] > arr[j+1] :\n",
    "                arr[j], arr[j+1] = arr[j+1], arr[j]\n",
    "        print('Bước thứ',i+1,':',arr)\n",
    "  \n",
    "# Driver code to test above\n",
    "arr = [64, 34, 12, 25, 90, 22, 11]\n",
    "print('Mảng ban đầu:',arr)\n",
    "bubbleSort(arr)\n",
    "  \n",
    "print (\"Sorted array is:\")\n",
    "for i in range(len(arr)):\n",
    "    print (\"%d\" %arr[i]), "
   ]
  }
 ],
 "metadata": {
  "kernelspec": {
   "display_name": "Python 3",
   "language": "python",
   "name": "python3"
  },
  "language_info": {
   "codemirror_mode": {
    "name": "ipython",
    "version": 3
   },
   "file_extension": ".py",
   "mimetype": "text/x-python",
   "name": "python",
   "nbconvert_exporter": "python",
   "pygments_lexer": "ipython3",
   "version": "3.8.3"
  }
 },
 "nbformat": 4,
 "nbformat_minor": 4
}
