{
 "cells": [
  {
   "cell_type": "code",
   "execution_count": 1,
   "metadata": {},
   "outputs": [
    {
     "name": "stderr",
     "output_type": "stream",
     "text": [
      "Warning message:\n",
      "\"package 'dplyr' was built under R version 3.6.3\"\n",
      "Attaching package: 'dplyr'\n",
      "\n",
      "The following objects are masked from 'package:stats':\n",
      "\n",
      "    filter, lag\n",
      "\n",
      "The following objects are masked from 'package:base':\n",
      "\n",
      "    intersect, setdiff, setequal, union\n",
      "\n",
      "Warning message:\n",
      "\"package 'ggcharts' was built under R version 3.6.3\""
     ]
    }
   ],
   "source": [
    "library(dplyr)\n",
    "library(ggplot2)\n",
    "library(ggcharts)"
   ]
  },
  {
   "cell_type": "code",
   "execution_count": 2,
   "metadata": {},
   "outputs": [
    {
     "data": {
      "text/plain": [
       "               _                           \n",
       "platform       x86_64-w64-mingw32          \n",
       "arch           x86_64                      \n",
       "os             mingw32                     \n",
       "system         x86_64, mingw32             \n",
       "status                                     \n",
       "major          3                           \n",
       "minor          6.1                         \n",
       "year           2019                        \n",
       "month          07                          \n",
       "day            05                          \n",
       "svn rev        76782                       \n",
       "language       R                           \n",
       "version.string R version 3.6.1 (2019-07-05)\n",
       "nickname       Action of the Toes          "
      ]
     },
     "metadata": {},
     "output_type": "display_data"
    }
   ],
   "source": [
    "version"
   ]
  },
  {
   "cell_type": "code",
   "execution_count": 3,
   "metadata": {},
   "outputs": [],
   "source": [
    "url = 'https://raw.githubusercontent.com/CSSEGISandData/COVID-19/master/csse_covid_19_data/csse_covid_19_daily_reports_us/01-01-2021.csv'\n",
    "covid <- read.csv(url)\n",
    "covid[is.na(covid)] <- 0\n",
    "slice <- covid[, c(1, 6, 7, 8, 9)]\n",
    "total <- colSums(slice[,-1])\n",
    "total <- data.frame(total)\n",
    "total <- cbind(rownames(total), total)"
   ]
  },
  {
   "cell_type": "code",
   "execution_count": 4,
   "metadata": {},
   "outputs": [
    {
     "ename": "ERROR",
     "evalue": "Error in plot_ly(., labels = ~Var, values = ~Count, type = \"pie\", textposition = \"inside\", : could not find function \"plot_ly\"\n",
     "output_type": "error",
     "traceback": [
      "Error in plot_ly(., labels = ~Var, values = ~Count, type = \"pie\", textposition = \"inside\", : could not find function \"plot_ly\"\nTraceback:\n",
      "1. data %>% plot_ly(labels = ~Var, values = ~Count, type = \"pie\", \n .     textposition = \"inside\", textinfo = \"label+percent\", insidetextfont = list(color = \"#FFFFFF\"), \n .     hoverinfo = \"text\", text = ~paste(Count, \"human\"), marker = list(colors = colors, \n .         line = list(color = \"#999999\", width = 2)), showlegend = TRUE)"
     ]
    }
   ],
   "source": [
    "data <- total[2:4,]\n",
    "\n",
    "\n",
    "colors <- c('rgb(144,103,167)',\n",
    "            'rgb(171,104,87)',\n",
    "            'rgb(114,147,203)')\n",
    "\n",
    "p11 <- data %>%\n",
    "  plot_ly(labels = ~ Var, values = ~ Count, type = 'pie',\n",
    "          textposition = 'inside',\n",
    "          textinfo = 'label+percent',\n",
    "          insidetextfont = list(color = '#FFFFFF'),\n",
    "          hoverinfo = 'text',\n",
    "          text = ~paste(Count, 'human'),\n",
    "          marker = list(colors = colors,\n",
    "                        line = list(color = '#999999', width = 2)),\n",
    "          showlegend = TRUE)\n",
    "\n",
    "p11 <- p11 %>% \n",
    "  layout(title = 'COVID 19',\n",
    "         xaxis = list(showgrid = FALSE, zeroline = FALSE, showticklabels = FALSE),\n",
    "         yaxis = list(showgrid = FALSE, zeroline = FALSE, showticklabels = FALSE))\n",
    "\n",
    "ggplotly(p11)"
   ]
  }
 ],
 "metadata": {
  "kernelspec": {
   "display_name": "R",
   "language": "R",
   "name": "ir"
  },
  "language_info": {
   "codemirror_mode": "r",
   "file_extension": ".r",
   "mimetype": "text/x-r-source",
   "name": "R",
   "pygments_lexer": "r",
   "version": "3.6.1"
  }
 },
 "nbformat": 4,
 "nbformat_minor": 4
}
